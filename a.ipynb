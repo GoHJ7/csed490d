{
 "cells": [
  {
   "cell_type": "code",
   "execution_count": 1,
   "metadata": {},
   "outputs": [],
   "source": [
    "import numpy as np\n",
    "import pandas as pd\n"
   ]
  },
  {
   "cell_type": "code",
   "execution_count": 2,
   "metadata": {},
   "outputs": [],
   "source": [
    "features = list()\n",
    "with open('feature.txt') as f:\n",
    "    features = [line.split()[1] for line in f.readlines()]"
   ]
  },
  {
   "cell_type": "code",
   "execution_count": 7,
   "metadata": {},
   "outputs": [],
   "source": [
    "for i in range(7):\n",
    "    raw_grav = pd.read_csv(\"20170252/\" + str(i) +\"/gravity.csv\" )\n",
    "    raw_grav.pop(raw_grav.columns[0])\n",
    "    raw_grav.pop(raw_grav.columns[0])\n",
    "    raw_linear = pd.read_csv(\"20170252/\" + str(i) +\"/linear.csv\" )\n",
    "    raw_linear.pop(raw_linear.columns[0])\n",
    "    raw_linear.pop(raw_linear.columns[0])\n",
    "    raw_gyro = pd.read_csv(\"20170252/\" + str(i) +\"/gyro.csv\" )\n",
    "    raw_gyro.pop(raw_gyro.columns[0])\n",
    "    raw_gyro.pop(raw_gyro.columns[0])\n",
    "    \n",
    "    merged_df = pd.concat([raw_grav, raw_linear], axis= 1)\n",
    "    merged_df = pd.concat([merged_df, raw_gyro], axis= 1)\n",
    "    merged_df.columns = ['grav_x', 'grav_y','grav_z','linear_x', 'linear_y','linear_z','gyro_x', 'gyro_y','gyro_z']\n",
    "    merged_df.to_csv(str(i)+\".csv\")\n",
    "\n",
    "\n",
    "\n"
   ]
  }
 ],
 "metadata": {
  "kernelspec": {
   "display_name": "Python 3.10.2 64-bit",
   "language": "python",
   "name": "python3"
  },
  "language_info": {
   "codemirror_mode": {
    "name": "ipython",
    "version": 3
   },
   "file_extension": ".py",
   "mimetype": "text/x-python",
   "name": "python",
   "nbconvert_exporter": "python",
   "pygments_lexer": "ipython3",
   "version": "3.10.2"
  },
  "orig_nbformat": 4,
  "vscode": {
   "interpreter": {
    "hash": "aee8b7b246df8f9039afb4144a1f6fd8d2ca17a180786b69acc140d282b71a49"
   }
  }
 },
 "nbformat": 4,
 "nbformat_minor": 2
}
