{
 "cells": [
  {
   "cell_type": "code",
   "execution_count": 1,
   "metadata": {},
   "outputs": [],
   "source": [
    "import numpy as np\n",
    "import pandas as pd\n",
    "import matplotlib.pyplot as plt \n",
    "%matplotlib inline"
   ]
  },
  {
   "cell_type": "code",
   "execution_count": 2,
   "metadata": {},
   "outputs": [],
   "source": [
    "features = list()\n",
    "with open('feature.txt') as f:\n",
    "    features = [line.split()[1] for line in f.readlines()]"
   ]
  },
  {
   "cell_type": "code",
   "execution_count": 4,
   "metadata": {},
   "outputs": [
    {
     "ename": "IndentationError",
     "evalue": "unindent does not match any outer indentation level (<tokenize>, line 18)",
     "output_type": "error",
     "traceback": [
      "\u001b[0;36m  File \u001b[0;32m<tokenize>:18\u001b[0;36m\u001b[0m\n\u001b[0;31m    total_rawdata.to_csv(\"total_rawdata.txt\")\u001b[0m\n\u001b[0m    ^\u001b[0m\n\u001b[0;31mIndentationError\u001b[0m\u001b[0;31m:\u001b[0m unindent does not match any outer indentation level\n"
     ]
    }
   ],
   "source": [
    "total_rawdata = pd.DataFrame()\n",
    "for i in range(7):\n",
    "    raw_grav = pd.read_csv(\"20170252/\" + str(i) +\"/gravity.csv\" )\n",
    "    raw_grav.pop(raw_grav.columns[1])\n",
    "    \n",
    "    raw_linear = pd.read_csv(\"20170252/\" + str(i) +\"/linear.csv\" )\n",
    "    raw_linear.pop(raw_linear.columns[1])\n",
    "    raw_linear.pop(raw_linear.columns[0])\n",
    "    raw_gyro = pd.read_csv(\"20170252/\" + str(i) +\"/gyro.csv\" )\n",
    "    raw_gyro.pop(raw_gyro.columns[1])\n",
    "    raw_gyro.pop(raw_gyro.columns[0])\n",
    "    \n",
    "    \n",
    "    merged_df = pd.concat([raw_grav, raw_linear], axis= 1)\n",
    "    merged_df = pd.concat([merged_df, raw_gyro], axis= 1)\n",
    "    total_rawdata = pd.concat([total_rawdata,merged_df], axix = 0)\n",
    "    \n",
    "total_rawdata.to_csv(\"total_rawdata.txt\")\n",
    "\n",
    " #window\n",
    "    \"\"\"\n",
    "    count = 0\n",
    "    while True:\n",
    "        temp = list()\n",
    "        if count + 200 > merged_df.shape[0]:\n",
    "            break\n",
    "        a = merged_df[count : count + 200].mean()\n",
    "        count = count + 100\n",
    "\n",
    "\"\"\"\n",
    "\n",
    "\n"
   ]
  }
 ],
 "metadata": {
  "kernelspec": {
   "display_name": "Python 3.10.2 64-bit",
   "language": "python",
   "name": "python3"
  },
  "language_info": {
   "codemirror_mode": {
    "name": "ipython",
    "version": 3
   },
   "file_extension": ".py",
   "mimetype": "text/x-python",
   "name": "python",
   "nbconvert_exporter": "python",
   "pygments_lexer": "ipython3",
   "version": "3.10.2"
  },
  "orig_nbformat": 4,
  "vscode": {
   "interpreter": {
    "hash": "aee8b7b246df8f9039afb4144a1f6fd8d2ca17a180786b69acc140d282b71a49"
   }
  }
 },
 "nbformat": 4,
 "nbformat_minor": 2
}
