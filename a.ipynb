{
 "cells": [
  {
   "cell_type": "code",
   "execution_count": 16,
   "metadata": {},
   "outputs": [],
   "source": [
    "import numpy as np\n",
    "import pandas as pd\n",
    "import matplotlib.pyplot as plt \n",
    "%matplotlib inline"
   ]
  },
  {
   "cell_type": "code",
   "execution_count": 119,
   "metadata": {},
   "outputs": [
    {
     "name": "stdout",
     "output_type": "stream",
     "text": [
      "(3182, 28)\n",
      "3182\n"
     ]
    }
   ],
   "source": [
    "features = [\"OTHERS\",\"WALKING\",\"RUNNING\",\"STANDING\",\"SITTING\",\"UPSTAIRS\",\"DOWNSTAIRS\"]\n",
    "total_rawdata = pd.DataFrame()\n",
    "feature_vec = [\"label\",\n",
    "\"grav_x_mean\",\"grav_y_mean\",\"grav_z_mean\",\"linear_x_mean\",\"linear_y_mean\"\n",
    ",\"linear_z_mean\",\"gyro_x_mean\",\"gyro_y_mean\",\"gyro_z_mean\",\n",
    "\"grav_x_energy\",\"grav_y_energy\",\"grav_z_energy\",\"linear_x_energy\",\"linear_y_energy\"\n",
    ",\"linear_z_energy\",\"gyro_x_energy\",\"gyro_y_energy\",\"gyro_z_energy\",\n",
    "\"grav_x_std\",\"grav_y_std\",\"grav_z_std\",\"linear_x_std\",\"linear_y_std\"\n",
    ",\"linear_z_std\",\"gyro_x_std\",\"gyro_y_std\",\"gyro_z_std\"\n",
    "]\n",
    "feature_df = pd.DataFrame(columns=feature_vec)\n",
    "error = 0\n",
    "window_num = 0\n",
    "for i in range(7):\n",
    "    count = 0\n",
    "    raw_grav = pd.read_csv(\"20170252/\" + str(i) +\"/gravity.csv\", header=None )\n",
    "    raw_grav.pop(raw_grav.columns[1])\n",
    "    \n",
    "    raw_linear = pd.read_csv(\"20170252/\" + str(i) +\"/linear.csv\", header=None )\n",
    "    raw_linear.pop(raw_linear.columns[0])\n",
    "    raw_linear.pop(raw_linear.columns[0])\n",
    "    raw_gyro = pd.read_csv(\"20170252/\" + str(i) +\"/gyro.csv\", header=None )\n",
    "    raw_gyro.pop(raw_gyro.columns[0])\n",
    "    raw_gyro.pop(raw_gyro.columns[0])\n",
    "    \n",
    "    \n",
    "    merged_df = pd.concat([raw_grav, raw_linear], axis= 1)\n",
    "    merged_df = pd.concat([merged_df, raw_gyro], axis= 1)\n",
    "    merged_df.columns = [\"label\",\"grav_x\",\"grav_y\",\"grav_z\",\"linear_x\",\"linear_y\",\"linear_z\",\"gyro_x\",\"gyro_y\",\"gyro_z\"]\n",
    "    merged_df=merged_df.dropna()\n",
    "    #print(merged_df.columns)\n",
    "    \n",
    "    merged_df['label'] = merged_df['label'].astype(int)\n",
    "    #merged_df.to_csv(str(i)+ \".txt\",index=None,header=None)\n",
    "    #print(merged_df.dtypes)\n",
    "    while True:\n",
    "       \n",
    "        if count + 200> merged_df.shape[0]:\n",
    "            break\n",
    "        window_num = window_num + 1\n",
    "        window_df = merged_df[count : count + 200]\n",
    "        window_df.pop(window_df.columns[0])\n",
    "        if window_df.shape[0] != 200:\n",
    "            error = error + 1\n",
    "        \n",
    "        ### calculation for the feature vector\n",
    "        ### label, gravity xyz, linear xyz, gyro xyz\n",
    "        ### mean, energy, std\n",
    "        result=pd.concat([window_df.mean().to_frame().T,window_df.pow(2).mean().to_frame().T,window_df.std().to_frame().T],axis=1)\n",
    "        result.insert(0,\"label\",i) \n",
    "        result.columns = feature_vec\n",
    "        feature_df = pd.concat([feature_df,result])\n",
    "        count = count + 100\n",
    "print(feature_df.shape)\n",
    "feature_df.to_csv(\"feature.csv\")\n",
    "print(window_num)\n",
    "\n",
    "   \n",
    "\n",
    "\n",
    " #window\n",
    "\n",
    "\n"
   ]
  }
 ],
 "metadata": {
  "kernelspec": {
   "display_name": "Python 3.10.2 64-bit",
   "language": "python",
   "name": "python3"
  },
  "language_info": {
   "codemirror_mode": {
    "name": "ipython",
    "version": 3
   },
   "file_extension": ".py",
   "mimetype": "text/x-python",
   "name": "python",
   "nbconvert_exporter": "python",
   "pygments_lexer": "ipython3",
   "version": "3.10.2"
  },
  "orig_nbformat": 4,
  "vscode": {
   "interpreter": {
    "hash": "aee8b7b246df8f9039afb4144a1f6fd8d2ca17a180786b69acc140d282b71a49"
   }
  }
 },
 "nbformat": 4,
 "nbformat_minor": 2
}
