{
 "cells": [
  {
   "cell_type": "code",
   "execution_count": 16,
   "metadata": {},
   "outputs": [],
   "source": [
    "import numpy as np\n",
    "import pandas as pd\n",
    "import matplotlib.pyplot as plt \n",
    "%matplotlib inline"
   ]
  },
  {
   "cell_type": "code",
   "execution_count": 32,
   "metadata": {},
   "outputs": [
    {
     "name": "stdout",
     "output_type": "stream",
     "text": [
      "(59497, 10)\n",
      "(62570, 10)\n",
      "(61982, 10)\n",
      "(57940, 10)\n",
      "(65387, 10)\n",
      "(21338, 10)\n",
      "(15825, 10)\n"
     ]
    },
    {
     "data": {
      "text/plain": [
       "'\\n    count = 0\\n    while True:\\n        temp = list()\\n        if count + 200 > merged_df.shape[0]:\\n            break\\n        a = merged_df[count : count + 200].mean()\\n        count = count + 100\\n\\n'"
      ]
     },
     "execution_count": 32,
     "metadata": {},
     "output_type": "execute_result"
    }
   ],
   "source": [
    "total_rawdata = pd.DataFrame()\n",
    "for i in range(7):\n",
    "    raw_grav = pd.read_csv(\"20170252/\" + str(i) +\"/gravity.csv\", header=None )\n",
    "    raw_grav.pop(raw_grav.columns[1])\n",
    "    \n",
    "    raw_linear = pd.read_csv(\"20170252/\" + str(i) +\"/linear.csv\", header=None )\n",
    "    raw_linear.pop(raw_linear.columns[0])\n",
    "    raw_linear.pop(raw_linear.columns[0])\n",
    "    raw_gyro = pd.read_csv(\"20170252/\" + str(i) +\"/gyro.csv\", header=None )\n",
    "    raw_gyro.pop(raw_gyro.columns[0])\n",
    "    raw_gyro.pop(raw_gyro.columns[0])\n",
    "    \n",
    "    \n",
    "    merged_df = pd.concat([raw_grav, raw_linear], axis= 1)\n",
    "    merged_df = pd.concat([merged_df, raw_gyro], axis= 1)\n",
    "\n",
    "    print(merged_df.shape)\n",
    "    ##have to deal with the number\n",
    "    total_rawdata = pd.concat([total_rawdata,merged_df], axis = 0)\n",
    "    total_rawdata=total_rawdata.dropna(axis=0)\n",
    "    total_rawdata=total_rawdata.dropna(axis=1)\n",
    "\n",
    "    total_rawdata.to_csv(str(i)+\".csv\", sep = \",\", index = False, header=None)\n",
    "\n",
    "   \n",
    "\n",
    "\n",
    " #window\n",
    "\"\"\"\n",
    "    count = 0\n",
    "    while True:\n",
    "        temp = list()\n",
    "        if count + 200 > merged_df.shape[0]:\n",
    "            break\n",
    "        a = merged_df[count : count + 200].mean()\n",
    "        count = count + 100\n",
    "\n",
    "\"\"\"\n",
    "\n",
    "\n"
   ]
  },
  {
   "cell_type": "code",
   "execution_count": 33,
   "metadata": {},
   "outputs": [
    {
     "data": {
      "text/plain": [
       "(319115, 10)"
      ]
     },
     "execution_count": 33,
     "metadata": {},
     "output_type": "execute_result"
    }
   ],
   "source": [
    "total_rawdata.shape"
   ]
  },
  {
   "cell_type": "code",
   "execution_count": 34,
   "metadata": {},
   "outputs": [
    {
     "ename": "KeyboardInterrupt",
     "evalue": "",
     "output_type": "error",
     "traceback": [
      "\u001b[0;31m---------------------------------------------------------------------------\u001b[0m",
      "\u001b[0;31mKeyboardInterrupt\u001b[0m                         Traceback (most recent call last)",
      "Cell \u001b[0;32mIn [34], line 11\u001b[0m\n\u001b[1;32m      9\u001b[0m \u001b[39mif\u001b[39;00m count \u001b[39m+\u001b[39m \u001b[39m200\u001b[39m\u001b[39m>\u001b[39m total_rawdata\u001b[39m.\u001b[39mshape[\u001b[39m0\u001b[39m]:\n\u001b[1;32m     10\u001b[0m     \u001b[39mbreak\u001b[39;00m\n\u001b[0;32m---> 11\u001b[0m window_df \u001b[39m=\u001b[39m total_rawdata[count : count \u001b[39m+\u001b[39;49m \u001b[39m200\u001b[39;49m]\n\u001b[1;32m     12\u001b[0m window_df\u001b[39m.\u001b[39mshape\n",
      "File \u001b[0;32m/Library/Frameworks/Python.framework/Versions/3.10/lib/python3.10/site-packages/pandas/core/frame.py:3777\u001b[0m, in \u001b[0;36mDataFrame.__getitem__\u001b[0;34m(self, key)\u001b[0m\n\u001b[1;32m   3775\u001b[0m         \u001b[39mreturn\u001b[39;00m \u001b[39mself\u001b[39m\u001b[39m.\u001b[39m_getitem_multilevel(key)\n\u001b[1;32m   3776\u001b[0m \u001b[39m# Do we have a slicer (on rows)?\u001b[39;00m\n\u001b[0;32m-> 3777\u001b[0m indexer \u001b[39m=\u001b[39m convert_to_index_sliceable(\u001b[39mself\u001b[39;49m, key)\n\u001b[1;32m   3778\u001b[0m \u001b[39mif\u001b[39;00m indexer \u001b[39mis\u001b[39;00m \u001b[39mnot\u001b[39;00m \u001b[39mNone\u001b[39;00m:\n\u001b[1;32m   3779\u001b[0m     \u001b[39mif\u001b[39;00m \u001b[39misinstance\u001b[39m(indexer, np\u001b[39m.\u001b[39mndarray):\n",
      "File \u001b[0;32m/Library/Frameworks/Python.framework/Versions/3.10/lib/python3.10/site-packages/pandas/core/indexing.py:2494\u001b[0m, in \u001b[0;36mconvert_to_index_sliceable\u001b[0;34m(obj, key)\u001b[0m\n\u001b[1;32m   2492\u001b[0m idx \u001b[39m=\u001b[39m obj\u001b[39m.\u001b[39mindex\n\u001b[1;32m   2493\u001b[0m \u001b[39mif\u001b[39;00m \u001b[39misinstance\u001b[39m(key, \u001b[39mslice\u001b[39m):\n\u001b[0;32m-> 2494\u001b[0m     \u001b[39mreturn\u001b[39;00m idx\u001b[39m.\u001b[39;49m_convert_slice_indexer(key, kind\u001b[39m=\u001b[39;49m\u001b[39m\"\u001b[39;49m\u001b[39mgetitem\u001b[39;49m\u001b[39m\"\u001b[39;49m, is_frame\u001b[39m=\u001b[39;49m\u001b[39mTrue\u001b[39;49;00m)\n\u001b[1;32m   2496\u001b[0m \u001b[39melif\u001b[39;00m \u001b[39misinstance\u001b[39m(key, \u001b[39mstr\u001b[39m):\n\u001b[1;32m   2497\u001b[0m \n\u001b[1;32m   2498\u001b[0m     \u001b[39m# we are an actual column\u001b[39;00m\n\u001b[1;32m   2499\u001b[0m     \u001b[39mif\u001b[39;00m key \u001b[39min\u001b[39;00m obj\u001b[39m.\u001b[39mcolumns:\n",
      "File \u001b[0;32m/Library/Frameworks/Python.framework/Versions/3.10/lib/python3.10/site-packages/pandas/core/indexes/numeric.py:221\u001b[0m, in \u001b[0;36mNumericIndex._convert_slice_indexer\u001b[0;34m(self, key, kind, is_frame)\u001b[0m\n\u001b[1;32m    216\u001b[0m \u001b[39m@cache_readonly\u001b[39m  \u001b[39m# type: ignore[misc]\u001b[39;00m\n\u001b[1;32m    217\u001b[0m \u001b[39m@doc\u001b[39m(Index\u001b[39m.\u001b[39m_should_fallback_to_positional)\n\u001b[1;32m    218\u001b[0m \u001b[39mdef\u001b[39;00m \u001b[39m_should_fallback_to_positional\u001b[39m(\u001b[39mself\u001b[39m) \u001b[39m-\u001b[39m\u001b[39m>\u001b[39m \u001b[39mbool\u001b[39m:\n\u001b[1;32m    219\u001b[0m     \u001b[39mreturn\u001b[39;00m \u001b[39mFalse\u001b[39;00m\n\u001b[0;32m--> 221\u001b[0m \u001b[39m@doc\u001b[39m(Index\u001b[39m.\u001b[39m_convert_slice_indexer)\n\u001b[1;32m    222\u001b[0m \u001b[39mdef\u001b[39;00m \u001b[39m_convert_slice_indexer\u001b[39m(\u001b[39mself\u001b[39m, key: \u001b[39mslice\u001b[39m, kind: \u001b[39mstr\u001b[39m, is_frame: \u001b[39mbool\u001b[39m \u001b[39m=\u001b[39m \u001b[39mFalse\u001b[39;00m):\n\u001b[1;32m    223\u001b[0m     \u001b[39m# TODO(2.0): once #45324 deprecation is enforced we should be able\u001b[39;00m\n\u001b[1;32m    224\u001b[0m     \u001b[39m#  to simplify this.\u001b[39;00m\n\u001b[1;32m    225\u001b[0m     \u001b[39mif\u001b[39;00m is_float_dtype(\u001b[39mself\u001b[39m\u001b[39m.\u001b[39mdtype):\n\u001b[1;32m    226\u001b[0m         \u001b[39massert\u001b[39;00m kind \u001b[39min\u001b[39;00m [\u001b[39m\"\u001b[39m\u001b[39mloc\u001b[39m\u001b[39m\"\u001b[39m, \u001b[39m\"\u001b[39m\u001b[39mgetitem\u001b[39m\u001b[39m\"\u001b[39m]\n",
      "\u001b[0;31mKeyboardInterrupt\u001b[0m: "
     ]
    }
   ],
   "source": [
    "\"\"\"\n",
    "mean\n",
    "energy\n",
    "standard deviation\n",
    "\"\"\"\n",
    "count = 0 \n",
    "\n",
    "while True:\n",
    "    if count + 200> total_rawdata.shape[0]:\n",
    "        break\n",
    "    window_df = total_rawdata[count : count + 200]\n",
    "    window_df.shape\n"
   ]
  }
 ],
 "metadata": {
  "kernelspec": {
   "display_name": "Python 3.10.2 64-bit",
   "language": "python",
   "name": "python3"
  },
  "language_info": {
   "codemirror_mode": {
    "name": "ipython",
    "version": 3
   },
   "file_extension": ".py",
   "mimetype": "text/x-python",
   "name": "python",
   "nbconvert_exporter": "python",
   "pygments_lexer": "ipython3",
   "version": "3.10.2"
  },
  "orig_nbformat": 4,
  "vscode": {
   "interpreter": {
    "hash": "aee8b7b246df8f9039afb4144a1f6fd8d2ca17a180786b69acc140d282b71a49"
   }
  }
 },
 "nbformat": 4,
 "nbformat_minor": 2
}
